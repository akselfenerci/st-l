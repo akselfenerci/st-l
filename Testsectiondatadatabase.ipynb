{
 "cells": [
  {
   "cell_type": "code",
   "execution_count": 1,
   "metadata": {},
   "outputs": [],
   "source": [
    "import sys"
   ]
  },
  {
   "cell_type": "code",
   "execution_count": 3,
   "metadata": {},
   "outputs": [
    {
     "name": "stdout",
     "output_type": "stream",
     "text": [
      "['c:\\\\Users\\\\47406\\\\AppData\\\\Local\\\\Programs\\\\Microsoft VS Code', 'c:\\\\Users\\\\47406\\\\anaconda3\\\\python38.zip', 'c:\\\\Users\\\\47406\\\\anaconda3\\\\DLLs', 'c:\\\\Users\\\\47406\\\\anaconda3\\\\lib', 'c:\\\\Users\\\\47406\\\\anaconda3', '', 'c:\\\\Users\\\\47406\\\\anaconda3\\\\lib\\\\site-packages', 'c:\\\\Users\\\\47406\\\\anaconda3\\\\lib\\\\site-packages\\\\win32', 'c:\\\\Users\\\\47406\\\\anaconda3\\\\lib\\\\site-packages\\\\win32\\\\lib', 'c:\\\\Users\\\\47406\\\\anaconda3\\\\lib\\\\site-packages\\\\Pythonwin', 'c:\\\\Users\\\\47406\\\\anaconda3\\\\lib\\\\site-packages\\\\IPython\\\\extensions', 'C:\\\\Users\\\\47406\\\\.ipython']\n"
     ]
    }
   ],
   "source": [
    "print(sys.path)"
   ]
  },
  {
   "cell_type": "code",
   "execution_count": 22,
   "metadata": {},
   "outputs": [
    {
     "data": {
      "text/plain": [
       "358"
      ]
     },
     "execution_count": 22,
     "metadata": {},
     "output_type": "execute_result"
    }
   ],
   "source": [
    "import SectionData.IPE80 as IPE80\n",
    "IPE80.A_vz()"
   ]
  },
  {
   "cell_type": "code",
   "execution_count": 25,
   "metadata": {},
   "outputs": [
    {
     "name": "stdout",
     "output_type": "stream",
     "text": [
      "areal av ipe100 er 1032 og areal av hea700 er 26048\n",
      "27080\n"
     ]
    }
   ],
   "source": [
    "import SectionData.IPE100 as IPE100\n",
    "IPE100.A_vz()\n",
    "\n",
    "import SectionData.HEA700 as HEA700\n",
    "a = HEA700.A()\n",
    "b = IPE100.A()\n",
    "\n",
    "print('areal av ipe100 er ' + str(b) + ' og areal av hea700 er ' + str(a))\n",
    "print(a+b)"
   ]
  },
  {
   "cell_type": "code",
   "execution_count": null,
   "metadata": {},
   "outputs": [],
   "source": []
  }
 ],
 "metadata": {
  "kernelspec": {
   "display_name": "base",
   "language": "python",
   "name": "python3"
  },
  "language_info": {
   "codemirror_mode": {
    "name": "ipython",
    "version": 3
   },
   "file_extension": ".py",
   "mimetype": "text/x-python",
   "name": "python",
   "nbconvert_exporter": "python",
   "pygments_lexer": "ipython3",
   "version": "3.8.3"
  },
  "orig_nbformat": 4,
  "vscode": {
   "interpreter": {
    "hash": "7150777b06e543c11f2e98e3dea06a43dc34c191867c53b525e3f6ad6359e90f"
   }
  }
 },
 "nbformat": 4,
 "nbformat_minor": 2
}
