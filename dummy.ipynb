{
 "cells": [
  {
   "cell_type": "code",
   "execution_count": null,
   "metadata": {},
   "outputs": [],
   "source": [
    "import pandas as pd\n",
    "\n",
    "pwd\n",
    "\n"
   ]
  },
  {
   "cell_type": "code",
   "execution_count": null,
   "metadata": {},
   "outputs": [],
   "source": [
    "tverrsnittsdata = pd.read_csv('C:\\\\Users\\\\akselfe\\\\OneDrive - NTNU\\DERS\\\\5.11\\\\Undervisning\\\\2023_vår\\\\BYGA2021\\\\enok_python\\\\tverrsnittsprofildata.csv',sep = ';')\n",
    "shape = tverrsnittsdata.shape\n",
    "tverrsnittsdata\n",
    "dasjdla\n",
    "\n",
    "\n",
    "da"
   ]
  }
 ],
 "metadata": {
  "kernelspec": {
   "display_name": "Python 3",
   "language": "python",
   "name": "python3"
  },
  "language_info": {
   "name": "python",
   "version": "3.8.12"
  },
  "orig_nbformat": 4,
  "vscode": {
   "interpreter": {
    "hash": "d7a6abe18236f67a4e15c86e6d9dce0ac9f9c048824835fdccbf9832a135c777"
   }
  }
 },
 "nbformat": 4,
 "nbformat_minor": 2
}
